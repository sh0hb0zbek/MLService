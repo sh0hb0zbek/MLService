{
 "cells": [
  {
   "cell_type": "code",
   "execution_count": 1,
   "id": "44ccee0e",
   "metadata": {},
   "outputs": [],
   "source": [
    "import layers\n",
    "from source import main_gan\n",
    "from source import generate_latent_points\n",
    "from tensorflow.keras.datasets.mnist import load_data\n",
    "from numpy import expand_dims"
   ]
  },
  {
   "cell_type": "code",
   "execution_count": 2,
   "id": "8a0a8b19",
   "metadata": {},
   "outputs": [],
   "source": [
    "init = layers.initializer(\"RandomNormal\", stddev=0.02)\n",
    "input_shape = (28, 28, 1)\n",
    "optimizer = layers.optimizer(\"Adam\", learning_rate=0.00001, beta_1=0.5)\n",
    "n_nodes = 64 * 7 * 7\n",
    "latent_dim = 50\n",
    "\n",
    "argv_discriminator = {\n",
    "    \"model_type\": \"Sequential\",\n",
    "    \"lyrs\": [\n",
    "        # 28x28x512\n",
    "        layers.layer(\"Conv2D\", filters=512, kernel_size=(3, 3), padding=\"same\", kernel_initializer=init, input_shape=input_shape),\n",
    "        layers.layer(\"BatchNormalization\"),\n",
    "        layers.layer(\"ReLU\"),\n",
    "        # downsample to 14x14x256\n",
    "        layers.layer(\"Conv2D\", filters=256, kernel_size=(3, 3), strides=(2, 2), padding=\"same\", kernel_initializer=init, input_shape=input_shape),\n",
    "        layers.layer(\"BatchNormalization\"),\n",
    "        layers.layer(\"ReLU\"),\n",
    "        # 14x14x128\n",
    "        layers.layer(\"Conv2D\", filters=128, kernel_size=(3, 3), padding=\"same\", kernel_initializer=init, input_shape=input_shape),\n",
    "        layers.layer(\"BatchNormalization\"),\n",
    "        layers.layer(\"ReLU\"),\n",
    "        # downsample to 7x7x64\n",
    "        layers.layer(\"Conv2D\", filters=64, kernel_size=(3, 3), strides=(2, 2), padding=\"same\", kernel_initializer=init),\n",
    "        layers.layer(\"BatchNormalization\"),\n",
    "        layers.layer(\"ReLU\"),\n",
    "        # classifier\n",
    "        layers.layer(\"Flatten\"),\n",
    "        layers.layer(\"Dense\", units=1, activation=\"sigmoid\")\n",
    "    ],\n",
    "    \"optimizer\": optimizer,\n",
    "    \"loss\": \"binary_crossentropy\",\n",
    "    \"metrics\": [\"accuracy\"]\n",
    "}\n",
    "\n",
    "argv_generator = {\n",
    "    \"model_type\": \"Sequential\",\n",
    "    \"lyrs\": [\n",
    "        # foundation for 7x7x64\n",
    "        layers.layer(\"Dense\", units=n_nodes, kernel_initializer=init, input_dim=latent_dim),\n",
    "        layers.layer(\"ReLU\"),\n",
    "        layers.layer(\"Reshape\", target_shape=(7, 7, 64)),\n",
    "        # upsample to 14x14x128\n",
    "        layers.layer(\"Conv2DTranspose\", filters=128, kernel_size=(3, 3), strides=(2, 2), padding=\"same\", kernel_initializer=init),\n",
    "        layers.layer(\"BatchNormalization\"),\n",
    "        layers.layer(\"ReLU\"),\n",
    "        # 14x14x256\n",
    "        layers.layer(\"Conv2DTranspose\", filters=256, kernel_size=(3, 3), padding=\"same\", kernel_initializer=init),\n",
    "        layers.layer(\"BatchNormalization\"),\n",
    "        layers.layer(\"ReLU\"),\n",
    "        # upsample to 28x28x512\n",
    "        layers.layer(\"Conv2DTranspose\", filters=512, kernel_size=(3, 3), strides=(2, 2), padding=\"same\", kernel_initializer=init),\n",
    "        layers.layer(\"BatchNormalization\"),\n",
    "        layers.layer(\"ReLU\"),\n",
    "        # output 28x28x1\n",
    "        layers.layer(\"Conv2D\", filters=1, kernel_size=(4, 4), activation=\"tanh\", padding=\"same\", kernel_initializer=init)\n",
    "    ],\n",
    "    \"do_compile\": False\n",
    "}\n",
    "\n",
    "argv_gan = {\n",
    "    \"optimizer\": optimizer,\n",
    "    \"loss\": \"binary_crossentropy\",\n",
    "    \"model_type\": \"Sequential\"\n",
    "}\n",
    "\n",
    "argv_train = {\"n_epochs\": 10, \"latent_dim\": latent_dim, \"do_print\": True}"
   ]
  },
  {
   "cell_type": "code",
   "execution_count": 3,
   "id": "fbe0cb8b",
   "metadata": {},
   "outputs": [],
   "source": [
    "# load data\n",
    "(train_x, train_y), (_, _) = load_data()\n",
    "# expand to 3D\n",
    "x = expand_dims(train_x, axis=-1)\n",
    "selected_ix = train_y == 8\n",
    "x = x[selected_ix]\n",
    "# convert from ints to floats and scale from [0, 255] to [-1, 1]\n",
    "x = x.astype(\"float32\")\n",
    "dataset = (x - 127.5) / 127.5"
   ]
  },
  {
   "cell_type": "code",
   "execution_count": 4,
   "id": "69760c30",
   "metadata": {},
   "outputs": [
    {
     "name": "stdout",
     "output_type": "stream",
     "text": [
      ">1/10, d1=0.018, d2=0.015, g=0.618, a1=100.0%, a2=100.0%\n",
      ">2/10, d1=0.006, d2=0.002, g=0.347, a1=100.0%, a2=100.0%\n",
      ">3/10, d1=0.003, d2=0.003, g=0.079, a1=100.0%, a2=100.0%\n",
      ">4/10, d1=0.003, d2=0.001, g=0.013, a1=100.0%, a2=100.0%\n",
      ">5/10, d1=0.001, d2=0.001, g=0.004, a1=100.0%, a2=100.0%\n",
      ">6/10, d1=0.001, d2=0.003, g=0.002, a1=100.0%, a2=100.0%\n",
      ">7/10, d1=0.001, d2=0.001, g=0.001, a1=100.0%, a2=100.0%\n",
      ">8/10, d1=0.001, d2=0.002, g=0.002, a1=100.0%, a2=100.0%\n",
      ">9/10, d1=0.001, d2=0.002, g=0.014, a1=100.0%, a2=100.0%\n",
      ">10/10, d1=0.001, d2=0.002, g=0.064, a1=100.0%, a2=100.0%\n"
     ]
    }
   ],
   "source": [
    "argv = [\n",
    "    argv_discriminator,\n",
    "    argv_generator,\n",
    "    argv_gan,\n",
    "    argv_train,\n",
    "    dataset\n",
    "]\n",
    "\n",
    "main_gan(argv)"
   ]
  },
  {
   "cell_type": "code",
   "execution_count": 5,
   "id": "9fc8419c",
   "metadata": {},
   "outputs": [
    {
     "name": "stdout",
     "output_type": "stream",
     "text": [
      "WARNING:tensorflow:No training configuration found in the save file, so the model was *not* compiled. Compile it manually.\n"
     ]
    }
   ],
   "source": [
    "from tensorflow.keras.models import load_model\n",
    "gan_model = load_model(\"generator_010.h5\")\n",
    "gan_sample = generate_latent_points(latent_dim, 1)\n",
    "sample = gan_model(gan_sample)"
   ]
  },
  {
   "cell_type": "code",
   "execution_count": 6,
   "id": "d773d291",
   "metadata": {},
   "outputs": [
    {
     "data": {
      "text/plain": [
       "<matplotlib.image.AxesImage at 0x7fd2d4bc83a0>"
      ]
     },
     "execution_count": 6,
     "metadata": {},
     "output_type": "execute_result"
    },
    {
     "data": {
      "image/png": "[encoded data removed]",
      "text/plain": [
       "<Figure size 640x480 with 1 Axes>"
      ]
     },
     "metadata": {},
     "output_type": "display_data"
    }
   ],
   "source": [
    "import matplotlib.pyplot as plt\n",
    "%matplotlib inline\n",
    "plt.imshow(sample[0], cmap=plt.cm.binary)"
   ]
  }
 ],
 "metadata": {
  "kernelspec": {
   "display_name": "gan",
   "language": "python",
   "name": "gan"
  },
  "language_info": {
   "codemirror_mode": {
    "name": "ipython",
    "version": 3
   },
   "file_extension": ".py",
   "mimetype": "text/x-python",
   "name": "python",
   "nbconvert_exporter": "python",
   "pygments_lexer": "ipython3",
   "version": "3.9.16"
  }
 },
 "nbformat": 4,
 "nbformat_minor": 5
}
